{
 "cells": [
  {
   "cell_type": "markdown",
   "id": "1efdaa12-bb43-4ee2-9741-10963d8c73c5",
   "metadata": {},
   "source": [
    "<font size=\"+3\"><strong> Wrangling Data"
   ]
  },
  {
   "cell_type": "code",
   "execution_count": 1,
   "id": "63d9fda5-4cba-407f-98ed-af8cad805a43",
   "metadata": {},
   "outputs": [],
   "source": [
    "import warnings\n",
    "import glob\n",
    "\n",
    "import matplotlib.pyplot as plt\n",
    "import numpy as np\n",
    "import pandas as pd\n",
    "from category_encoders import OneHotEncoder\n",
    "from sklearn.linear_model import LinearRegression, Ridge  # noqa F401\n",
    "from sklearn.metrics import mean_absolute_error\n",
    "from sklearn.pipeline import make_pipeline\n",
    "from sklearn.utils.validation import check_is_fitted\n",
    "\n",
    "warnings.simplefilter(action=\"ignore\", category=FutureWarning)"
   ]
  },
  {
   "cell_type": "code",
   "execution_count": 2,
   "id": "af4ab6ce-6cc4-4173-83c7-4fef5efb1ea6",
   "metadata": {},
   "outputs": [],
   "source": [
    "def wrangle(filepath):\n",
    "    # Read CSV file(s)\n",
    "    df = pd.read_csv(filepath)\n",
    "\n",
    "    return df"
   ]
  },
  {
   "cell_type": "markdown",
   "id": "dd5fa1db-71a9-4f5a-8a02-4e61e7f0eb84",
   "metadata": {},
   "source": [
    "Use [`glob`] to create a list that contains the filenames for all the Data archive CSV files in the data directory. Assign this list to the variable name `files`."
   ]
  },
  {
   "cell_type": "code",
   "execution_count": 3,
   "id": "8adf3217-5f11-436a-bb17-9538087a7cca",
   "metadata": {},
   "outputs": [
    {
     "data": {
      "text/plain": [
       "['sensors.AFRICA Air Quality Archive Kampala\\\\april_2018_sensor_data_archive.csv',\n",
       " 'sensors.AFRICA Air Quality Archive Kampala\\\\february_2018_sensor_data_archive.csv',\n",
       " 'sensors.AFRICA Air Quality Archive Kampala\\\\Kampala_DATA.csv',\n",
       " 'sensors.AFRICA Air Quality Archive Kampala\\\\march_2018_sensor_data_archive.csv',\n",
       " 'sensors.AFRICA Air Quality Archive Kampala\\\\tmp6qf5go54.csv']"
      ]
     },
     "execution_count": 3,
     "metadata": {},
     "output_type": "execute_result"
    }
   ],
   "source": [
    "# Path to the folder \n",
    "path = \"sensors.AFRICA Air Quality Archive Kampala/*.csv\"\n",
    "\n",
    "# Get all CSV file paths in the folder\n",
    "files = glob.glob(path)\n",
    "files\n",
    "\n",
    "#print(f\"Found {len(files)} CSV files: {files}\")"
   ]
  },
  {
   "cell_type": "code",
   "execution_count": 4,
   "id": "f38b564f-cc58-4b78-8240-7a9a559c61ea",
   "metadata": {},
   "outputs": [
    {
     "name": "stdout",
     "output_type": "stream",
     "text": [
      "\n",
      "🔍 Analyzing: sensors.AFRICA Air Quality Archive Kampala\\april_2018_sensor_data_archive.csv\n",
      "Total Rows: 2722\n",
      "✅ No missing values found!\n",
      "──────────────────────────────────────────────────\n",
      "\n",
      "🔍 Analyzing: sensors.AFRICA Air Quality Archive Kampala\\february_2018_sensor_data_archive.csv\n",
      "Total Rows: 16980\n",
      "✅ No missing values found!\n",
      "──────────────────────────────────────────────────\n",
      "\n",
      "🔍 Analyzing: sensors.AFRICA Air Quality Archive Kampala\\Kampala_DATA.csv\n",
      "Total Rows: 94728\n",
      "✅ No missing values found!\n",
      "──────────────────────────────────────────────────\n",
      "\n",
      "🔍 Analyzing: sensors.AFRICA Air Quality Archive Kampala\\march_2018_sensor_data_archive.csv\n",
      "Total Rows: 37590\n",
      "✅ No missing values found!\n",
      "──────────────────────────────────────────────────\n",
      "\n",
      "🔍 Analyzing: sensors.AFRICA Air Quality Archive Kampala\\tmp6qf5go54.csv\n",
      "Total Rows: 5071\n",
      "✅ No missing values found!\n",
      "──────────────────────────────────────────────────\n"
     ]
    }
   ],
   "source": [
    "# Get all CSV files\n",
    "path = \"sensors.AFRICA Air Quality Archive Kampala/*.csv\"\n",
    "files = glob.glob(path)\n",
    "\n",
    "# Analyze missing data for each file\n",
    "for file in files:\n",
    "    print(f\"\\n🔍 Analyzing: {file.split('/')[-1]}\")  # Show filename only\n",
    "    df = pd.read_csv(file)\n",
    "    \n",
    "    # Calculate missing data stats\n",
    "    missing = df.isnull().sum()\n",
    "    missing_pct = (missing / len(df)) * 100\n",
    "    \n",
    "    # Display results without creating a DataFrame\n",
    "    print(f\"Total Rows: {len(df)}\")\n",
    "    \n",
    "    # Track if any missing values exist\n",
    "    NaN = False\n",
    "    \n",
    "    # Sort columns by missing percentage (descending)\n",
    "    for col in missing.sort_values(ascending=False).index:\n",
    "        count = missing[col]\n",
    "        pct = missing_pct[col]\n",
    "        \n",
    "        if count > 0:\n",
    "            NaN = True\n",
    "            print(f\"  - {col}: {count} missing values ({pct:.2f}%)\")\n",
    "    \n",
    "    if not NaN:\n",
    "        print(\"✅ No missing values found!\")\n",
    "    \n",
    "    print(\"─\" * 50)"
   ]
  },
  {
   "cell_type": "markdown",
   "id": "6f11d5bf-f6e4-4ee3-a0b3-7c9e90895a86",
   "metadata": {},
   "source": [
    "Use your `wrangle` function in a `for` loop to create a list named `frames`. The list should the cleaned DataFrames created from the CSV filenames your collected in `files`."
   ]
  },
  {
   "cell_type": "code",
   "execution_count": 5,
   "id": "e9993ad9-5117-410b-971b-a5d9b71c1227",
   "metadata": {},
   "outputs": [],
   "source": [
    "frames = []\n",
    "for file in files:\n",
    "    df = wrangle(file)\n",
    "    frames.append(df)"
   ]
  },
  {
   "cell_type": "markdown",
   "id": "67a39918-c1f0-49a7-80f6-40b020e0a13b",
   "metadata": {},
   "source": [
    "Use [`pd.concat`](https://pandas.pydata.org/docs/reference/api/pandas.concat.html) to concatenate the items in `frames` into a single DataFrame `df`."
   ]
  },
  {
   "cell_type": "code",
   "execution_count": 6,
   "id": "f44d5f12-8288-4c6f-ab24-83a423d81ebf",
   "metadata": {},
   "outputs": [
    {
     "data": {
      "text/html": [
       "<div>\n",
       "<style scoped>\n",
       "    .dataframe tbody tr th:only-of-type {\n",
       "        vertical-align: middle;\n",
       "    }\n",
       "\n",
       "    .dataframe tbody tr th {\n",
       "        vertical-align: top;\n",
       "    }\n",
       "\n",
       "    .dataframe thead th {\n",
       "        text-align: right;\n",
       "    }\n",
       "</style>\n",
       "<table border=\"1\" class=\"dataframe\">\n",
       "  <thead>\n",
       "    <tr style=\"text-align: right;\">\n",
       "      <th></th>\n",
       "      <th>timestamp</th>\n",
       "      <th>lat</th>\n",
       "      <th>lon</th>\n",
       "      <th>P2</th>\n",
       "    </tr>\n",
       "  </thead>\n",
       "  <tbody>\n",
       "    <tr>\n",
       "      <th>0</th>\n",
       "      <td>2018-04-03T08:02:58.724826+00:00</td>\n",
       "      <td>0.323</td>\n",
       "      <td>32.576</td>\n",
       "      <td>68.20</td>\n",
       "    </tr>\n",
       "    <tr>\n",
       "      <th>2</th>\n",
       "      <td>2018-04-03T08:07:58.243813+00:00</td>\n",
       "      <td>0.323</td>\n",
       "      <td>32.576</td>\n",
       "      <td>23.80</td>\n",
       "    </tr>\n",
       "    <tr>\n",
       "      <th>6</th>\n",
       "      <td>2018-04-03T08:33:11.104756+00:00</td>\n",
       "      <td>0.323</td>\n",
       "      <td>32.576</td>\n",
       "      <td>104.73</td>\n",
       "    </tr>\n",
       "    <tr>\n",
       "      <th>8</th>\n",
       "      <td>2018-04-03T08:43:11.262125+00:00</td>\n",
       "      <td>0.323</td>\n",
       "      <td>32.576</td>\n",
       "      <td>50.80</td>\n",
       "    </tr>\n",
       "    <tr>\n",
       "      <th>12</th>\n",
       "      <td>2018-04-03T08:53:11.601735+00:00</td>\n",
       "      <td>0.323</td>\n",
       "      <td>32.576</td>\n",
       "      <td>41.47</td>\n",
       "    </tr>\n",
       "  </tbody>\n",
       "</table>\n",
       "</div>"
      ],
      "text/plain": [
       "                           timestamp    lat     lon      P2\n",
       "0   2018-04-03T08:02:58.724826+00:00  0.323  32.576   68.20\n",
       "2   2018-04-03T08:07:58.243813+00:00  0.323  32.576   23.80\n",
       "6   2018-04-03T08:33:11.104756+00:00  0.323  32.576  104.73\n",
       "8   2018-04-03T08:43:11.262125+00:00  0.323  32.576   50.80\n",
       "12  2018-04-03T08:53:11.601735+00:00  0.323  32.576   41.47"
      ]
     },
     "execution_count": 6,
     "metadata": {},
     "output_type": "execute_result"
    }
   ],
   "source": [
    "df = pd.concat(frames, ignore_index = True)\n",
    "\n",
    "# Subset to dataframe \"P2\"\n",
    "mask_P2 = df[\"value_type\"] == \"P2\"\n",
    "df = df[mask_P2]\n",
    "\n",
    "df = df.iloc[:, [5, 3, 4, 7]] \n",
    "df = df.rename(columns={'value': 'P2'})\n",
    "\n",
    "df.head()"
   ]
  },
  {
   "cell_type": "code",
   "execution_count": 7,
   "id": "4979a969-56d5-4f5e-84e3-9dc9504ee6e2",
   "metadata": {},
   "outputs": [],
   "source": [
    "df.to_csv(\"sensors.AFRICA Air Quality Archive Kampala/Kampala_DATA.csv\")"
   ]
  },
  {
   "cell_type": "markdown",
   "id": "565ed361-cb8e-40b6-9117-ed35a45e4c9a",
   "metadata": {},
   "source": [
    "<center>\n",
    "<table>\n",
    "  <tr>\n",
    "    <th>Date (YYYY-MM-DD)</th>\n",
    "    <th>Author</th>\n",
    "  </tr>\n",
    "  <tr>\n",
    "    <td>2025-02-14</td>\n",
    "    <td>Andrew Kalumba Harris</td>\n",
    "  </tr>\n",
    "</table>\n",
    "</center>"
   ]
  },
  {
   "cell_type": "code",
   "execution_count": null,
   "id": "e61e3b3b-262e-4f05-9380-cbf2295a651c",
   "metadata": {},
   "outputs": [],
   "source": []
  }
 ],
 "metadata": {
  "kernelspec": {
   "display_name": "Python 3 (ipykernel)",
   "language": "python",
   "name": "python3"
  },
  "language_info": {
   "codemirror_mode": {
    "name": "ipython",
    "version": 3
   },
   "file_extension": ".py",
   "mimetype": "text/x-python",
   "name": "python",
   "nbconvert_exporter": "python",
   "pygments_lexer": "ipython3",
   "version": "3.10.14"
  }
 },
 "nbformat": 4,
 "nbformat_minor": 5
}
